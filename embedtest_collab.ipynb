{
  "cells": [
    {
      "cell_type": "code",
      "source": [
        "%pip install -U langchain_google_genai"
      ],
      "metadata": {
        "id": "A-UGajk8DcIf"
      },
      "id": "A-UGajk8DcIf",
      "execution_count": null,
      "outputs": []
    },
    {
      "cell_type": "code",
      "execution_count": null,
      "id": "66d855d7",
      "metadata": {
        "id": "66d855d7"
      },
      "outputs": [],
      "source": [
        "import langchain_google_genai\n",
        "import time"
      ]
    },
    {
      "cell_type": "code",
      "execution_count": null,
      "id": "258e6357",
      "metadata": {
        "id": "258e6357"
      },
      "outputs": [],
      "source": [
        "def get_embedding_with_retry(text, max_retries=5, initial_delay=1):\n",
        "    \"\"\"Gets an embedding with retry logic.\"\"\"\n",
        "    for attempt in range(max_retries):\n",
        "        try:\n",
        "            llm = langchain_google_genai.GoogleGenerativeAIEmbeddings(model=\"models/gemini-embedding-exp-03-07\")\n",
        "            embedding = llm.embed_query(text)\n",
        "            return embedding\n",
        "        except Exception as e:\n",
        "            if \"Deadline Exceeded\" in str(e):\n",
        "                print(f\"Attempt {attempt + 1} failed: Deadline Exceeded. Retrying in {initial_delay} seconds...\")\n",
        "                time.sleep(initial_delay)\n",
        "                initial_delay *= 2  # Exponential backoff\n",
        "            else:\n",
        "                print(f\"Attempt {attempt + 1} failed with a different error: {e}\")\n",
        "                raise  # Re-raise the exception if it's not a timeout\n",
        "\n",
        "    raise Exception(\"Max retries reached. Embedding failed after multiple attempts.\")\n"
      ]
    },
    {
      "cell_type": "code",
      "execution_count": null,
      "id": "dc1932e3",
      "metadata": {
        "id": "dc1932e3"
      },
      "outputs": [],
      "source": [
        "# Example usage:\n",
        "try:\n",
        "    text_to_embed = \"This is a sample text for embedding.\"\n",
        "    embedding_vector = get_embedding_with_retry(text_to_embed)\n",
        "    print(\"Embedding:\", embedding_vector)\n",
        "except Exception as e:\n",
        "    print(\"Error getting embedding:\", e)"
      ]
    }
  ],
  "metadata": {
    "language_info": {
      "name": "python"
    },
    "colab": {
      "provenance": []
    }
  },
  "nbformat": 4,
  "nbformat_minor": 5
}