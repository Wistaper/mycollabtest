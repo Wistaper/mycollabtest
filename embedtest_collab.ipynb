{
  "cells": [
    {
      "cell_type": "code",
      "source": [
        "%pip install -q langchain_google_genai"
      ],
      "metadata": {
        "id": "A-UGajk8DcIf"
      },
      "id": "A-UGajk8DcIf",
      "execution_count": 7,
      "outputs": []
    },
    {
      "cell_type": "code",
      "source": [
        "from google.colab import auth\n",
        "auth.authenticate_user()"
      ],
      "metadata": {
        "id": "vn-hja285x8P"
      },
      "id": "vn-hja285x8P",
      "execution_count": 21,
      "outputs": []
    },
    {
      "cell_type": "code",
      "execution_count": 22,
      "id": "66d855d7",
      "metadata": {
        "id": "66d855d7"
      },
      "outputs": [],
      "source": [
        "import langchain_google_genai\n",
        "import time"
      ]
    },
    {
      "cell_type": "code",
      "execution_count": 23,
      "id": "258e6357",
      "metadata": {
        "id": "258e6357"
      },
      "outputs": [],
      "source": [
        "def get_embedding_with_retry(text, max_retries=5, initial_delay=1):\n",
        "    \"\"\"Gets an embedding with retry logic.\"\"\"\n",
        "    for attempt in range(max_retries):\n",
        "        try:\n",
        "            llm = langchain_google_genai.GoogleGenerativeAIEmbeddings(model=\"models/gemini-embedding-exp-03-07\")\n",
        "            embedding = llm.embed_query(text)\n",
        "            return embedding\n",
        "        except Exception as e:\n",
        "            if \"Deadline Exceeded\" in str(e):\n",
        "                print(f\"Attempt {attempt + 1} failed: Deadline Exceeded. Retrying in {initial_delay} seconds...\")\n",
        "                time.sleep(initial_delay)\n",
        "                initial_delay *= 2  # Exponential backoff\n",
        "            else:\n",
        "                print(f\"Attempt {attempt + 1} failed with a different error: {e}\")\n",
        "                raise  # Re-raise the exception if it's not a timeout\n",
        "\n",
        "    raise Exception(\"Max retries reached. Embedding failed after multiple attempts.\")\n"
      ]
    },
    {
      "cell_type": "code",
      "execution_count": 24,
      "id": "dc1932e3",
      "metadata": {
        "id": "dc1932e3",
        "colab": {
          "base_uri": "https://localhost:8080/"
        },
        "outputId": "16e9fc93-215d-4807-8f3f-19bdcbd593df"
      },
      "outputs": [
        {
          "output_type": "stream",
          "name": "stdout",
          "text": [
            "Attempt 1 failed with a different error: Error embedding content: 403 Request had insufficient authentication scopes. [reason: \"ACCESS_TOKEN_SCOPE_INSUFFICIENT\"\n",
            "domain: \"googleapis.com\"\n",
            "metadata {\n",
            "  key: \"service\"\n",
            "  value: \"generativelanguage.googleapis.com\"\n",
            "}\n",
            "metadata {\n",
            "  key: \"method\"\n",
            "  value: \"google.ai.generativelanguage.v1beta.GenerativeService.EmbedContent\"\n",
            "}\n",
            "]\n",
            "Error getting embedding: Error embedding content: 403 Request had insufficient authentication scopes. [reason: \"ACCESS_TOKEN_SCOPE_INSUFFICIENT\"\n",
            "domain: \"googleapis.com\"\n",
            "metadata {\n",
            "  key: \"service\"\n",
            "  value: \"generativelanguage.googleapis.com\"\n",
            "}\n",
            "metadata {\n",
            "  key: \"method\"\n",
            "  value: \"google.ai.generativelanguage.v1beta.GenerativeService.EmbedContent\"\n",
            "}\n",
            "]\n"
          ]
        }
      ],
      "source": [
        "# Example usage:\n",
        "try:\n",
        "    text_to_embed = \"This is a sample text for embedding.\"\n",
        "    embedding_vector = get_embedding_with_retry(text_to_embed)\n",
        "    print(\"Embedding:\", embedding_vector)\n",
        "except Exception as e:\n",
        "    print(\"Error getting embedding:\", e)"
      ]
    }
  ],
  "metadata": {
    "language_info": {
      "name": "python"
    },
    "colab": {
      "provenance": []
    },
    "kernelspec": {
      "name": "python3",
      "display_name": "Python 3"
    }
  },
  "nbformat": 4,
  "nbformat_minor": 5
}